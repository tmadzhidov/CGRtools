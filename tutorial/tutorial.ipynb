{
 "cells": [
  {
   "cell_type": "markdown",
   "metadata": {},
   "source": [
    "# CGRtools Tutorial\n",
    "\n",
    "(c) 2019, Ramil Nugmanov\n",
    "\n",
    "install CGRtools package first: `pip install CGRtools`\n",
    "\n",
    "NOTE: tutorial must be performed sequentially. Random cell running will lead to unexpected results."
   ]
  },
  {
   "cell_type": "code",
   "execution_count": null,
   "metadata": {},
   "outputs": [],
   "source": [
    "# load data for tutorial\n",
    "from pickle import load\n",
    "from traceback import format_exc\n",
    "\n",
    "with open('molecules.dat', 'rb') as f:\n",
    "    molecules = load(f) # list of MoleculeContainer objects\n",
    "with open('reactions.dat', 'rb') as f:\n",
    "    reactions = load(f) # list of ReactionContainer objects\n",
    "\n",
    "m1, m2, m3, m4 = molecules # molecule\n",
    "m7 = m3.copy()\n",
    "m11 = m3.copy()\n",
    "m11.standardize()\n",
    "m12 = m3.copy()\n",
    "m7.standardize()\n",
    "r1 = reactions[0] # reaction\n",
    "m5, m6 = r1.reagents[:2]\n",
    "m8 = m7.substructure([4, 5, 6, 7, 8, 9], as_view=False)\n",
    "m9 = m6.substructure([5, 6,7, 8], as_view=False) # acid\n",
    "m10 =  r1.products[0].copy()"
   ]
  },
  {
   "cell_type": "markdown",
   "metadata": {},
   "source": [
    "# 1. Data types and operations with them\n",
    "\n",
    "CGRtools has subpackage containers with data structures classes:\n",
    "* MoleculeContainer - molecule structure\n",
    "* ReactionContainer - reaction structure\n",
    "* CGRContainer - CGR structure\n",
    "* QueryContainer - for substructure searching in molecules\n",
    "* QueryCGRContainer - for substructure searching in CGRs"
   ]
  },
  {
   "cell_type": "code",
   "execution_count": null,
   "metadata": {},
   "outputs": [],
   "source": [
    "from CGRtools.containers import * # import all containers"
   ]
  },
  {
   "cell_type": "markdown",
   "metadata": {},
   "source": [
    "## 1.1. MoleculeContainer\n",
    "Molecules is undirected graphs. Molecules contains atom objects and bond objects.\n",
    "\n",
    "Atoms stored in dictionary keyed with unique number of each atoms.  \n",
    "Bonds stored in sparse matrix keyed by atoms numbers between which bonds exists.\n",
    "\n",
    "Molecules has next methods and properties:"
   ]
  },
  {
   "cell_type": "code",
   "execution_count": null,
   "metadata": {},
   "outputs": [],
   "source": [
    "m1.meta # dictionary for molecule metadata storing. for example used for storing MDL SDF DTYPE/DATUM fields"
   ]
  },
  {
   "cell_type": "code",
   "execution_count": null,
   "metadata": {},
   "outputs": [],
   "source": [
    "m1 # molecules support depiction and graphic representation in jupyter notebooks."
   ]
  },
  {
   "cell_type": "code",
   "execution_count": null,
   "metadata": {},
   "outputs": [],
   "source": [
    "m1.depict() # depiction return SVG image format string"
   ]
  },
  {
   "cell_type": "code",
   "execution_count": null,
   "metadata": {},
   "outputs": [],
   "source": [
    "with open('molecule.svg', 'w') as f: # save image to file\n",
    "    f.write(m1.depict())"
   ]
  },
  {
   "cell_type": "code",
   "execution_count": null,
   "metadata": {},
   "outputs": [],
   "source": [
    "m_copy = m1.copy() # isolated copy of molecule\n",
    "m_copy"
   ]
  },
  {
   "cell_type": "code",
   "execution_count": null,
   "metadata": {},
   "outputs": [],
   "source": [
    "len(m1) # get number of atoms in molecule\n",
    "# or \n",
    "m1.atoms_count"
   ]
  },
  {
   "cell_type": "code",
   "execution_count": null,
   "metadata": {},
   "outputs": [],
   "source": [
    "m1.bonds_count # number of bonds"
   ]
  },
  {
   "cell_type": "code",
   "execution_count": null,
   "metadata": {},
   "outputs": [],
   "source": [
    "m1.atoms_numbers # list of available atoms numbers"
   ]
  },
  {
   "cell_type": "code",
   "execution_count": null,
   "metadata": {},
   "outputs": [],
   "source": [
    "# this method calculate additional atoms attributes: number of connected neighbors and hybridization. see below for usage\n",
    "m1.reset_query_marks() # by default this attributes is None (speed-up)\n",
    "m3.reset_query_marks()"
   ]
  },
  {
   "cell_type": "markdown",
   "metadata": {},
   "source": [
    "Hybridizations of atoms:\n",
    "* 1 (s) - all bonds of atom is single\n",
    "* 2 (d) - atom has one double bond and other is single\n",
    "* 3 (t) - atom has one triple or two double bonds and other is single\n",
    "* 4 (a) - atom in aromatic ring\n",
    "\n",
    "Neighbors and hybridizations atom attributes needs for **substructure operations** and structure standardization. See below"
   ]
  },
  {
   "cell_type": "code",
   "execution_count": null,
   "metadata": {},
   "outputs": [],
   "source": [
    "# iterate over atoms with its numbers\n",
    "list(m1.atoms())  # works same as dict.items()"
   ]
  },
  {
   "cell_type": "code",
   "execution_count": null,
   "metadata": {},
   "outputs": [],
   "source": [
    "# iterate over bonds with connected atoms numbers\n",
    "list(m1.bonds())"
   ]
  },
  {
   "cell_type": "code",
   "execution_count": null,
   "metadata": {},
   "outputs": [],
   "source": [
    "# access to atom by number\n",
    "m1.atom(1)"
   ]
  },
  {
   "cell_type": "code",
   "execution_count": null,
   "metadata": {},
   "outputs": [],
   "source": [
    "try:\n",
    "    m1.atom(10) # raise error for nonexistent atom numbers\n",
    "except KeyError:\n",
    "    print(format_exc())"
   ]
  },
  {
   "cell_type": "code",
   "execution_count": null,
   "metadata": {},
   "outputs": [],
   "source": [
    "# access to bond by atoms numbers\n",
    "m1.bond(1, 4)"
   ]
  },
  {
   "cell_type": "code",
   "execution_count": null,
   "metadata": {},
   "outputs": [],
   "source": [
    "try:\n",
    "    m1.bond(1, 3) # raise error for nonexistent bond\n",
    "except KeyError:\n",
    "    print(format_exc())"
   ]
  },
  {
   "cell_type": "markdown",
   "metadata": {},
   "source": [
    "#### Atom objects is dict-like classes which store information about:\n",
    "* element\n",
    "* isotope\n",
    "* charge\n",
    "* multiplicity\n",
    "* xyz coordinates\n",
    "\n",
    "Also atoms has methods for data integrity checks and some internal data."
   ]
  },
  {
   "cell_type": "code",
   "execution_count": null,
   "metadata": {},
   "outputs": [],
   "source": [
    "a = m1.atom(1)\n",
    "\n",
    "# access to information\n",
    "a.element # element symbol\n",
    "# or\n",
    "a['element']"
   ]
  },
  {
   "cell_type": "code",
   "execution_count": null,
   "metadata": {},
   "outputs": [],
   "source": [
    "a.charge # formal charge\n",
    "# or\n",
    "a['charge']"
   ]
  },
  {
   "cell_type": "code",
   "execution_count": null,
   "metadata": {},
   "outputs": [],
   "source": [
    "a.multiplicity # atom multiplicity. None if not set\n",
    "# or\n",
    "a['multiplicity']"
   ]
  },
  {
   "cell_type": "code",
   "execution_count": null,
   "metadata": {},
   "outputs": [],
   "source": [
    "a.isotope # atom isotope. default if not set. defaults isotopes same as in INCHI trust\n",
    "# or\n",
    "a['isotope']"
   ]
  },
  {
   "cell_type": "code",
   "execution_count": null,
   "metadata": {},
   "outputs": [],
   "source": [
    "a.x # coordinates\n",
    "a.y\n",
    "a.z\n",
    "# or\n",
    "a['x']\n",
    "a['y']\n",
    "a['z']"
   ]
  },
  {
   "cell_type": "code",
   "execution_count": null,
   "metadata": {},
   "outputs": [],
   "source": [
    "a.neighbors # this attribute calculated and read-only. see reset_query_marks above"
   ]
  },
  {
   "cell_type": "code",
   "execution_count": null,
   "metadata": {},
   "outputs": [],
   "source": [
    "a.hybridization # this attribute calculated and read-only"
   ]
  },
  {
   "cell_type": "code",
   "execution_count": null,
   "metadata": {},
   "outputs": [],
   "source": [
    "try:\n",
    "    a.hybridization = 2 # read-only!\n",
    "except AttributeError:\n",
    "    print(format_exc())"
   ]
  },
  {
   "cell_type": "markdown",
   "metadata": {},
   "source": [
    "#### Presented attributes is editable.\n",
    "\n",
    "CGRtools checks data before changing"
   ]
  },
  {
   "cell_type": "code",
   "execution_count": null,
   "metadata": {},
   "outputs": [],
   "source": [
    "a.isotope = 16\n",
    "# or \n",
    "a['isotope'] = 16"
   ]
  },
  {
   "cell_type": "code",
   "execution_count": null,
   "metadata": {},
   "outputs": [],
   "source": [
    "m1.flush_cache() # due to caching (speed-up) for observing changes in atoms and bonds need to reset cache of molecule\n",
    "m1"
   ]
  },
  {
   "cell_type": "code",
   "execution_count": null,
   "metadata": {
    "scrolled": true
   },
   "outputs": [],
   "source": [
    "try:\n",
    "    a.isotope = 0 # raise error\n",
    "except ValueError:\n",
    "    print(format_exc())"
   ]
  },
  {
   "cell_type": "code",
   "execution_count": null,
   "metadata": {},
   "outputs": [],
   "source": [
    "# bond objects also is dict-like classes which store information about order\n",
    "b = m1.bond(3, 4)\n",
    "\n",
    "b.order\n",
    "#\n",
    "b['order']"
   ]
  },
  {
   "cell_type": "code",
   "execution_count": null,
   "metadata": {},
   "outputs": [],
   "source": [
    "b.order = 1 # order change also possible\n",
    "# or\n",
    "b['order'] = 1"
   ]
  },
  {
   "cell_type": "code",
   "execution_count": null,
   "metadata": {},
   "outputs": [],
   "source": [
    "m1.flush_cache()\n",
    "m1"
   ]
  },
  {
   "cell_type": "code",
   "execution_count": null,
   "metadata": {
    "scrolled": true
   },
   "outputs": [],
   "source": [
    "try:\n",
    "    b['order'] = 0 # raises error\n",
    "except ValueError:\n",
    "    print(format_exc())"
   ]
  },
  {
   "cell_type": "markdown",
   "metadata": {},
   "source": [
    "For bond removing You should to use `delete_bond` method "
   ]
  },
  {
   "cell_type": "code",
   "execution_count": null,
   "metadata": {},
   "outputs": [],
   "source": [
    "m1.delete_bond(3, 4)\n",
    "m1"
   ]
  },
  {
   "cell_type": "markdown",
   "metadata": {},
   "source": [
    "For atom removing `delete_atom` method exists"
   ]
  },
  {
   "cell_type": "code",
   "execution_count": null,
   "metadata": {},
   "outputs": [],
   "source": [
    "m1.delete_atom(3)\n",
    "m1"
   ]
  },
  {
   "cell_type": "code",
   "execution_count": null,
   "metadata": {},
   "outputs": [],
   "source": [
    "m_copy # copy unchanged!"
   ]
  },
  {
   "cell_type": "markdown",
   "metadata": {},
   "source": [
    "Atoms and bonds objects can be converted into integer representation.\n",
    "\n",
    "Each bit-set in this incheger code information about attributes.  \n",
    "Atoms has 21 bit code (rounded to 32 bit int):\n",
    "* 7b (highest bits) atom number (2 ** 7 - 1 == 127, currently 118 elements presented in table)\n",
    "* 9b isotope (511, highest known isotope ~300)\n",
    "* 3b charge. charges from range -3 - +3 rescaled to range 0-6\n",
    "* 2b multiplicity."
   ]
  },
  {
   "cell_type": "code",
   "execution_count": null,
   "metadata": {},
   "outputs": [],
   "source": [
    "int(a)\n",
    "# 131596 == 0001000 000010000 011 00\n",
    "# 0001000 == 8 Oxygen\n",
    "# 000010000 == 16 isotope\n",
    "# 011 == 3 (3 - 3 = 0) uncharged\n",
    "# 00 == 0 hasn't multiplicity"
   ]
  },
  {
   "cell_type": "code",
   "execution_count": null,
   "metadata": {},
   "outputs": [],
   "source": [
    "int(b)  # bonds coded by it's order"
   ]
  },
  {
   "cell_type": "code",
   "execution_count": null,
   "metadata": {},
   "outputs": [],
   "source": [
    "print(m1.atom_implicit_h(1)) # get number of implicit hydrogens on atom 1\n",
    "print(m1.atom_explicit_h(1)) # get number of explicit hydrogens on atom 1\n",
    "print(m1.atom_total_h(1)) # get total number of hydrogens on atom 1"
   ]
  },
  {
   "cell_type": "code",
   "execution_count": null,
   "metadata": {},
   "outputs": [],
   "source": [
    "m1"
   ]
  },
  {
   "cell_type": "code",
   "execution_count": null,
   "metadata": {},
   "outputs": [],
   "source": [
    "m1.check_valence() # return list of numbers of atoms with invalid valences"
   ]
  },
  {
   "cell_type": "code",
   "execution_count": null,
   "metadata": {},
   "outputs": [],
   "source": [
    "m4 # molecule with errors"
   ]
  },
  {
   "cell_type": "code",
   "execution_count": null,
   "metadata": {},
   "outputs": [],
   "source": [
    "m4.check_valence()"
   ]
  },
  {
   "cell_type": "code",
   "execution_count": null,
   "metadata": {},
   "outputs": [],
   "source": [
    "m3"
   ]
  },
  {
   "cell_type": "code",
   "execution_count": null,
   "metadata": {},
   "outputs": [],
   "source": [
    "m3.sssr # list or lists of atoms forming rings"
   ]
  },
  {
   "cell_type": "markdown",
   "metadata": {},
   "source": [
    "#### Connected components\n",
    "Sometimes molecules has disconnected components (salts etc).\n",
    "\n",
    "You can see it and split to separate molecules."
   ]
  },
  {
   "cell_type": "code",
   "execution_count": null,
   "metadata": {
    "scrolled": true
   },
   "outputs": [],
   "source": [
    "m2"
   ]
  },
  {
   "cell_type": "code",
   "execution_count": null,
   "metadata": {},
   "outputs": [],
   "source": [
    "m2.connected_components # list of list of atoms of components"
   ]
  },
  {
   "cell_type": "code",
   "execution_count": null,
   "metadata": {},
   "outputs": [],
   "source": [
    "anion, cation = m2.split() # split molecule to components"
   ]
  },
  {
   "cell_type": "code",
   "execution_count": null,
   "metadata": {},
   "outputs": [],
   "source": [
    "anion"
   ]
  },
  {
   "cell_type": "code",
   "execution_count": null,
   "metadata": {},
   "outputs": [],
   "source": [
    "cation"
   ]
  },
  {
   "cell_type": "markdown",
   "metadata": {},
   "source": [
    "#### Union of molecules\n",
    "Sometimes salts presented in reaction as anions set. This presentation is ambiguous.\n",
    "\n",
    "For example: **Ag+** + **NO3-** + **Na+** + **Br-** = **Ag+** + **Br-** + **Na+** + **NO3-**. Reagents and products set is equal\n",
    "\n",
    "You can combine pairs of anion-cation to single molecule"
   ]
  },
  {
   "cell_type": "code",
   "execution_count": null,
   "metadata": {},
   "outputs": [],
   "source": [
    "salt = anion | cation # or anion.union(cation)\n",
    "salt # this salt has disconnected components, but now this is single compound"
   ]
  },
  {
   "cell_type": "markdown",
   "metadata": {},
   "source": [
    "#### From molecules possible to extract substructures.\n",
    "\n",
    "By default returned objects is read-only projection of original molecule (except attributes of atoms/bonds).  \n",
    "Changes in original molecule (bond breaking/formation, atom insertion/deletion, atom/bond attributes changes) will be mirrored in projection.  \n",
    "Projections share original molecule neighbors and hybridization attributes"
   ]
  },
  {
   "cell_type": "code",
   "execution_count": null,
   "metadata": {},
   "outputs": [],
   "source": [
    "proj = m3.substructure([4,5,6,7,8,9])  # projection to molecule part.\n",
    "proj"
   ]
  },
  {
   "cell_type": "code",
   "execution_count": null,
   "metadata": {},
   "outputs": [],
   "source": [
    "m3.atom(4).neighbors"
   ]
  },
  {
   "cell_type": "code",
   "execution_count": null,
   "metadata": {},
   "outputs": [],
   "source": [
    "proj.atom(4).neighbors # same as in original molecule"
   ]
  },
  {
   "cell_type": "code",
   "execution_count": null,
   "metadata": {},
   "outputs": [],
   "source": [
    "from networkx.exception import NetworkXError\n",
    "try:\n",
    "    proj.reset_query_marks() # projections has blocked methods for molecule changing\n",
    "except NetworkXError:\n",
    "    print(format_exc())"
   ]
  },
  {
   "cell_type": "code",
   "execution_count": null,
   "metadata": {},
   "outputs": [],
   "source": [
    "benzene = m3.substructure([4,5,6,7,8,9], as_view=False) # isolated copy (not projection)\n",
    "benzene"
   ]
  },
  {
   "cell_type": "code",
   "execution_count": null,
   "metadata": {},
   "outputs": [],
   "source": [
    "benzene.atom(4).neighbors is None # empty attribute. benzene is new molecule. need to call reset_query_marks"
   ]
  },
  {
   "cell_type": "code",
   "execution_count": null,
   "metadata": {},
   "outputs": [],
   "source": [
    "benzene.reset_query_marks()"
   ]
  },
  {
   "cell_type": "code",
   "execution_count": null,
   "metadata": {},
   "outputs": [],
   "source": [
    "benzene.atom(4).neighbors # now neighbors number of atom 4 is 2."
   ]
  },
  {
   "cell_type": "markdown",
   "metadata": {},
   "source": [
    "* Projection of projection also projection of original molecule\n",
    "* Projection can be converted to isolated molecule by calling method copy()"
   ]
  },
  {
   "cell_type": "code",
   "execution_count": null,
   "metadata": {},
   "outputs": [],
   "source": [
    "proj_copy = proj.copy()\n",
    "proj_copy"
   ]
  },
  {
   "cell_type": "code",
   "execution_count": null,
   "metadata": {},
   "outputs": [],
   "source": [
    "proj_copy.reset_query_marks() # this not projection. this new molecule!"
   ]
  },
  {
   "cell_type": "markdown",
   "metadata": {},
   "source": [
    "Changes mirroring example"
   ]
  },
  {
   "cell_type": "code",
   "execution_count": null,
   "metadata": {},
   "outputs": [],
   "source": [
    "m3.delete_bond(4, 5)\n",
    "m3"
   ]
  },
  {
   "cell_type": "code",
   "execution_count": null,
   "metadata": {},
   "outputs": [],
   "source": [
    "proj.flush_cache() # remove cached image\n",
    "proj"
   ]
  },
  {
   "cell_type": "markdown",
   "metadata": {},
   "source": [
    "`augmented_substructure` is substructure extended with neighbors atoms.\n",
    "**deep** argument give control to number of included shells of substructure core."
   ]
  },
  {
   "cell_type": "code",
   "execution_count": null,
   "metadata": {},
   "outputs": [],
   "source": [
    "aug = m3.augmented_substructure([10], deep=2) # also projection by default. atom 10 is Nitrogen\n",
    "aug"
   ]
  },
  {
   "cell_type": "code",
   "execution_count": null,
   "metadata": {},
   "outputs": [],
   "source": [
    "aug.atom(10).hybridization"
   ]
  },
  {
   "cell_type": "markdown",
   "metadata": {},
   "source": [
    "#### Atoms Ordering\n",
    "`atoms_order` property return dictionary of atom numbers with it's prime-value orders. Equal atoms has equal values. Morgan algorithm used.\n"
   ]
  },
  {
   "cell_type": "code",
   "execution_count": null,
   "metadata": {},
   "outputs": [],
   "source": [
    "m5.atoms_order"
   ]
  },
  {
   "cell_type": "markdown",
   "metadata": {},
   "source": [
    "#### Atoms number can be changed by `remap` method.\n",
    "\n",
    "First argument is dict keyed with existing numbers and valued with new. Possible to set only part of atoms. Argument *copy* by default is False. If copy True - new object will be created, else existing molecule will be changed."
   ]
  },
  {
   "cell_type": "code",
   "execution_count": null,
   "metadata": {},
   "outputs": [],
   "source": [
    "for n, a in m5.atoms():\n",
    "    print(n, a.element)\n",
    "for n, m, b in m5.bonds():\n",
    "    print(m, n, b.order)"
   ]
  },
  {
   "cell_type": "code",
   "execution_count": null,
   "metadata": {},
   "outputs": [],
   "source": [
    "remapped = m5.remap({4:2}, copy=True)\n",
    "remapped"
   ]
  },
  {
   "cell_type": "code",
   "execution_count": null,
   "metadata": {},
   "outputs": [],
   "source": [
    "for n, a in remapped.atoms():\n",
    "    print(n, a.element)\n",
    "for n, m, b in remapped.bonds():\n",
    "    print(m, n, b.order)"
   ]
  },
  {
   "cell_type": "markdown",
   "metadata": {},
   "source": [
    "## 1.2. ReactionContainer\n",
    "\n",
    "ReactionContainer objects has next properties:\n",
    "* **reagents** - list of reagents molecules\n",
    "* **reactants** - list of reactants molecules\n",
    "* **products** - list of products molecules\n",
    "* **meta** - dictinary of reaction metadata (DTYPE/DATUM block in RDF)"
   ]
  },
  {
   "cell_type": "code",
   "execution_count": null,
   "metadata": {},
   "outputs": [],
   "source": [
    "r1 # depiction supported"
   ]
  },
  {
   "cell_type": "code",
   "execution_count": null,
   "metadata": {
    "scrolled": true
   },
   "outputs": [],
   "source": [
    "r1.meta"
   ]
  },
  {
   "cell_type": "code",
   "execution_count": null,
   "metadata": {},
   "outputs": [],
   "source": [
    "print(r1.reagents, r1.products)  # access to lists of reagents and products. printed molecules signatures. see below\n",
    "reagent1, reagent2, reagent3 = r1.reagents\n",
    "product = r1.products[0]"
   ]
  },
  {
   "cell_type": "markdown",
   "metadata": {},
   "source": [
    "Reactions also has `standardize`, `aromatize`, `reset_query_marks`, `implicify_hydrogens` and `explicify_hydrogens` methods (see part 3). This methods are applied independently to every molecule in reaction."
   ]
  },
  {
   "cell_type": "markdown",
   "metadata": {},
   "source": [
    "## 1.3. CGR\n",
    "CGRConatainer object is similar to molecules, except some methods. The following methods are not suppoted:\n",
    "* aromatize\n",
    "* standardize\n",
    "* implicify_hydrogens\n",
    "* explicify_hydrogens\n",
    "* atom_implicit_h\n",
    "* atom_explicit_h\n",
    "* atom_total_h\n",
    "* check_valence\n",
    "\n",
    "CGR specific methods:\n",
    "* centers_list\n",
    "* center_atoms\n",
    "* center_bonds\n",
    "\n",
    "CGR container is undirected graph. atoms and bonds in CGR has two states: reagent and product"
   ]
  },
  {
   "cell_type": "markdown",
   "metadata": {},
   "source": [
    "#### Composing to CGR\n",
    "\n",
    "As mentioned above, molecules internally store atoms keyed by unique numbers.  \n",
    "This numbers used for atom-to-atom mapping in CGRtools.\n",
    "This gives to us easy approach for constructing of CGRs.\n",
    "\n",
    "Pairs of molecules can be transformed to CGR. Same atom numbers imply the same atoms.\n",
    "\n",
    "Reaction also can be composed into CGR. Atom numbers of molecules used as Atom-To-Atom mapping of reagents to products."
   ]
  },
  {
   "cell_type": "code",
   "execution_count": null,
   "metadata": {},
   "outputs": [],
   "source": [
    "cgr1 = m7 ^ m8 # or m7.compose(m8)\n",
    "print(cgr1)  # CGR object currently don't support depiction. signature printed. see below"
   ]
  },
  {
   "cell_type": "markdown",
   "metadata": {},
   "source": [
    "This is CGR. U can see changed bonds connected to ring\n",
    "![cgr1.png](attachment:cgr1.png)"
   ]
  },
  {
   "cell_type": "code",
   "execution_count": null,
   "metadata": {},
   "outputs": [],
   "source": [
    "r1"
   ]
  },
  {
   "cell_type": "code",
   "execution_count": null,
   "metadata": {},
   "outputs": [],
   "source": [
    "cgr2 = ~r1 # or  r1.compose()\n",
    "print(cgr2) # signature printed. see below"
   ]
  },
  {
   "cell_type": "markdown",
   "metadata": {},
   "source": [
    "![cgr2.png](attachment:cgr2.png)"
   ]
  },
  {
   "cell_type": "code",
   "execution_count": null,
   "metadata": {},
   "outputs": [],
   "source": [
    "cgr2.reset_query_marks() # CGRs also has reset_query_marks"
   ]
  },
  {
   "cell_type": "code",
   "execution_count": null,
   "metadata": {},
   "outputs": [],
   "source": [
    "a = cgr2.atom(2) # atom access same as in molecule"
   ]
  },
  {
   "cell_type": "code",
   "execution_count": null,
   "metadata": {},
   "outputs": [],
   "source": [
    "a.element # element attribute\n",
    "# or a['element']"
   ]
  },
  {
   "cell_type": "code",
   "execution_count": null,
   "metadata": {},
   "outputs": [],
   "source": [
    "a.isotope # isotope attribute\n",
    "# or a['isotope']"
   ]
  },
  {
   "cell_type": "markdown",
   "metadata": {},
   "source": [
    "In CGR attributes charge, multiplicity, x y z, neighbors and hybridization refer to atom state in reagent part in reaction equation;  arguments p_charge, p_multiplicity, p_x p_y p_z, p_neighbors and p_hybridization could be used to extract atom state in product part in equation."
   ]
  },
  {
   "cell_type": "code",
   "execution_count": null,
   "metadata": {},
   "outputs": [],
   "source": [
    "a.charge # reagent state charge\n",
    "# or \n",
    "a['charge']"
   ]
  },
  {
   "cell_type": "code",
   "execution_count": null,
   "metadata": {},
   "outputs": [],
   "source": [
    "a.p_charge # product state charge\n",
    "#or \n",
    "a['p_charge']"
   ]
  },
  {
   "cell_type": "code",
   "execution_count": null,
   "metadata": {},
   "outputs": [],
   "source": [
    "a.p_multiplicity"
   ]
  },
  {
   "cell_type": "code",
   "execution_count": null,
   "metadata": {},
   "outputs": [],
   "source": [
    "a.p_x\n",
    "a.p_y\n",
    "a.p_z"
   ]
  },
  {
   "cell_type": "code",
   "execution_count": null,
   "metadata": {},
   "outputs": [],
   "source": [
    "a.neighbors"
   ]
  },
  {
   "cell_type": "code",
   "execution_count": null,
   "metadata": {},
   "outputs": [],
   "source": [
    "a.p_neighbors"
   ]
  },
  {
   "cell_type": "code",
   "execution_count": null,
   "metadata": {},
   "outputs": [],
   "source": [
    "a.hybridization"
   ]
  },
  {
   "cell_type": "code",
   "execution_count": null,
   "metadata": {},
   "outputs": [],
   "source": [
    "a.p_hybridization"
   ]
  },
  {
   "cell_type": "code",
   "execution_count": null,
   "metadata": {},
   "outputs": [],
   "source": [
    "b = cgr1.bond(4, 10)"
   ]
  },
  {
   "cell_type": "markdown",
   "metadata": {},
   "source": [
    "#### Bonds has order and p_order attribute\n",
    "If order attribute value is None, this indicate bond formation  \n",
    "If p_order is None, this indicate bond breaking\n",
    "\n",
    "Both order and p_order can't be None"
   ]
  },
  {
   "cell_type": "code",
   "execution_count": null,
   "metadata": {},
   "outputs": [],
   "source": [
    "b.order"
   ]
  },
  {
   "cell_type": "code",
   "execution_count": null,
   "metadata": {},
   "outputs": [],
   "source": [
    "b.p_order is None"
   ]
  },
  {
   "cell_type": "markdown",
   "metadata": {},
   "source": [
    "CGR can be decomposed back to molecules of reagent and product state.\n",
    "\n",
    "However CGR is lose information about unbalanced reactions. this may lead to strange structures"
   ]
  },
  {
   "cell_type": "code",
   "execution_count": null,
   "metadata": {},
   "outputs": [],
   "source": [
    "reagent_part, product_part = ~cgr1 # or cgr1.decompose() "
   ]
  },
  {
   "cell_type": "code",
   "execution_count": null,
   "metadata": {},
   "outputs": [],
   "source": [
    "reagent_part # united reagents"
   ]
  },
  {
   "cell_type": "code",
   "execution_count": null,
   "metadata": {},
   "outputs": [],
   "source": [
    "product_part # united products. Original product is benzene molecule only."
   ]
  },
  {
   "cell_type": "markdown",
   "metadata": {},
   "source": [
    "For decomposing CGR into reaction object You can use `CGRpreparer` class"
   ]
  },
  {
   "cell_type": "code",
   "execution_count": null,
   "metadata": {},
   "outputs": [],
   "source": [
    "from CGRtools import CGRpreparer\n",
    "preparer = CGRpreparer()"
   ]
  },
  {
   "cell_type": "code",
   "execution_count": null,
   "metadata": {},
   "outputs": [],
   "source": [
    "decomposed = preparer.decompose(cgr2)"
   ]
  },
  {
   "cell_type": "code",
   "execution_count": null,
   "metadata": {},
   "outputs": [],
   "source": [
    "decomposed # You can see balansed water in products. \n",
    "# This is side-effect of CGR decomposing. but works correctly only for atom-unbalansed reactions with balansed elenctrons\n",
    "# In next release electron balansing will be added."
   ]
  },
  {
   "cell_type": "code",
   "execution_count": null,
   "metadata": {},
   "outputs": [],
   "source": [
    "r1 # original reaction"
   ]
  },
  {
   "cell_type": "markdown",
   "metadata": {},
   "source": [
    "## 1.4 Queries\n",
    "\n",
    "CGRtools support Queries. Queries use in isomorphism additional information about atoms: neighbors and hybridization\n",
    "\n",
    "Queries don't has `reset_query_marks` method"
   ]
  },
  {
   "cell_type": "code",
   "execution_count": null,
   "metadata": {},
   "outputs": [],
   "source": [
    "from CGRtools.containers import*"
   ]
  },
  {
   "cell_type": "code",
   "execution_count": null,
   "metadata": {},
   "outputs": [],
   "source": [
    "m10.reset_query_marks()\n",
    "m10 # ether"
   ]
  },
  {
   "cell_type": "code",
   "execution_count": null,
   "metadata": {
    "scrolled": true
   },
   "outputs": [],
   "source": [
    "carb = m10.substructure([5,7,8, 2]) # carboxyl fragment (projection)\n",
    "carb"
   ]
  },
  {
   "cell_type": "code",
   "execution_count": null,
   "metadata": {},
   "outputs": [],
   "source": [
    "q = QueryContainer(carb)  # convert molecule into query\n",
    "print(q) # QueryContainer don't support depiction yet"
   ]
  },
  {
   "cell_type": "markdown",
   "metadata": {},
   "source": [
    "CGRs also can be transformed into Query.\n",
    "\n",
    "`QueryCGRContainer` is similar to QueryContainer class for CGRs and has same API.\n",
    "\n",
    "QueryCGRContainer take into account reagent and product side state of atoms and bonds including neighbors and hybridization"
   ]
  },
  {
   "cell_type": "code",
   "execution_count": null,
   "metadata": {},
   "outputs": [],
   "source": [
    "cgr1.reset_query_marks()\n",
    "cgr_q = QueryCGRContainer(cgr1)\n",
    "print(cgr_q)"
   ]
  },
  {
   "cell_type": "markdown",
   "metadata": {},
   "source": [
    "## 1.5. Molecules, CGRs, Reactions construction\n",
    "\n",
    "CGRtools has API for construction of objects.\n",
    "\n",
    "CGR and Molecule has methods `add_atom` and `add_bond` for adding atoms and bonds."
   ]
  },
  {
   "cell_type": "code",
   "execution_count": null,
   "metadata": {},
   "outputs": [],
   "source": [
    "from CGRtools.containers import *"
   ]
  },
  {
   "cell_type": "code",
   "execution_count": null,
   "metadata": {},
   "outputs": [],
   "source": [
    "m = MoleculeContainer() # new empty molecule\n",
    "\n",
    "m.add_atom('C')  # add Carbon atom\n",
    "m.add_atom(6) # add Carbon atom. {'element': 6} - not valid!\n",
    "m.add_atom({'element': 'O', 'charge': -1}) # add charged Oxygen atom\n",
    "\n",
    "# add_atom has second argument for setting atom number. by default next after biggest will be set.\n",
    "m.add_atom({'element': 'Na', 'charge': 1}, 4)"
   ]
  },
  {
   "cell_type": "markdown",
   "metadata": {},
   "source": [
    "{'element': 'O', 'charge': -1} keys in dictionary is atom attributes. see above"
   ]
  },
  {
   "cell_type": "code",
   "execution_count": null,
   "metadata": {},
   "outputs": [],
   "source": [
    "m.add_bond(1, 2, 1) # add bond with order = 1 between atoms 1 and 2\n",
    "m.add_bond(3, 2, {'order': 1})"
   ]
  },
  {
   "cell_type": "code",
   "execution_count": null,
   "metadata": {},
   "outputs": [],
   "source": [
    "m.calculate2d()\n",
    "m"
   ]
  },
  {
   "cell_type": "markdown",
   "metadata": {},
   "source": [
    "Reactions can be constructed from molecules"
   ]
  },
  {
   "cell_type": "code",
   "execution_count": null,
   "metadata": {},
   "outputs": [],
   "source": [
    "r = ReactionContainer() # empty reaction\n",
    "r.reagents.append(m1)\n",
    "r.products.append(m3)\n",
    "# or\n",
    "r = ReactionContainer(reagents=[m1], products=[m11]) # filled reaction\n",
    "# or\n",
    "r = ReactionContainer([m1], [m11]) # equal to second"
   ]
  },
  {
   "cell_type": "code",
   "execution_count": null,
   "metadata": {},
   "outputs": [],
   "source": [
    "r"
   ]
  },
  {
   "cell_type": "code",
   "execution_count": null,
   "metadata": {},
   "outputs": [],
   "source": [
    "r.products.append(m.copy()) # reagents, products, reactants attributes is list-like. You can add/remove molecules directly to attributes\n",
    "r.flush_cache()"
   ]
  },
  {
   "cell_type": "code",
   "execution_count": null,
   "metadata": {},
   "outputs": [],
   "source": [
    "r # molecules coordinates automatically not changed."
   ]
  },
  {
   "cell_type": "code",
   "execution_count": null,
   "metadata": {},
   "outputs": [],
   "source": [
    "r.fix_positions() # this method fix molecules coordinates.\n",
    "r"
   ]
  },
  {
   "cell_type": "markdown",
   "metadata": {},
   "source": [
    "QueryContainers can be constructed same as molecules.\n",
    "\n",
    "QueryContainers additionally support atoms, neighbors and hybridization lists"
   ]
  },
  {
   "cell_type": "code",
   "execution_count": null,
   "metadata": {},
   "outputs": [],
   "source": [
    "q = QueryContainer()\n",
    "q.add_atom({'element': ['N', 'O']}) # N or O atom, any isotope, neutral charged, no difference in neighbors count and hybridization\n",
    "q.add_atom({'element': 'C', 'neighbors': [2, 3]}) # Carbon, neutral charged, 2 or 3 non-hydrogen heignbors\n",
    "q.add_atom({'element': 'O'})\n",
    "q.add_bond(1, 2, 1)\n",
    "q.add_bond(2, 3, 2)\n",
    "# any Amide or Carboxilic group"
   ]
  },
  {
   "cell_type": "code",
   "execution_count": null,
   "metadata": {},
   "outputs": [],
   "source": [
    "print(q)"
   ]
  },
  {
   "cell_type": "markdown",
   "metadata": {},
   "source": [
    "## 1.6. Extending CGRtools\n",
    "\n",
    "You can easily customize CGRtools for your tasks.  \n",
    "CGRtools is OOP-oriented library with subclassing support.\n",
    "\n",
    "For example You can add special marks on atoms for ligand donor centers."
   ]
  },
  {
   "cell_type": "code",
   "execution_count": null,
   "metadata": {},
   "outputs": [],
   "source": [
    "from CGRtools.containers import MoleculeContainer\n",
    "from CGRtools.attributes import Atom"
   ]
  },
  {
   "cell_type": "code",
   "execution_count": null,
   "metadata": {},
   "outputs": [],
   "source": [
    "class MarkedAtom(Atom):\n",
    "    __slots__ = '__mark' # all new attributes should be slotted!\n",
    "    \n",
    "    def __init__(self, **kwargs):\n",
    "        super().__init__(**kwargs)\n",
    "        self.__mark = None # set default value\n",
    "\n",
    "    @property\n",
    "    def mark(self):\n",
    "        return self.__mark\n",
    "    \n",
    "    @mark.setter\n",
    "    def mark(self, mark):\n",
    "        # do some checks and calculations\n",
    "        self.__mark = mark\n"
   ]
  },
  {
   "cell_type": "code",
   "execution_count": null,
   "metadata": {},
   "outputs": [],
   "source": [
    "class MarkedMoleculeContainer(MoleculeContainer):\n",
    "    node_attr_dict_factory = MarkedAtom # override atom container"
   ]
  },
  {
   "cell_type": "code",
   "execution_count": null,
   "metadata": {},
   "outputs": [],
   "source": [
    "m = MarkedMoleculeContainer()\n",
    "m.add_atom('C')\n",
    "m.add_atom('N')\n",
    "m.add_bond(1, 2, 1)\n",
    "\n",
    "m.atom(2)['mark'] = 1 # in this example dicts setitem supported but update not."
   ]
  },
  {
   "cell_type": "code",
   "execution_count": null,
   "metadata": {},
   "outputs": [],
   "source": [
    "m.atom(2).mark"
   ]
  },
  {
   "cell_type": "markdown",
   "metadata": {},
   "source": [
    "# 2. Signatures\n",
    "\n",
    "## 2.1. Molecule Signatures\n",
    "MoleculeContainer has methods for unique molecule signature generation\n",
    "signature is SMILES string with explicit bonds notation and canonical atoms ordering. For pyroles SMILES does not comply with the rules.\n",
    "\n",
    "For signature generation need to call `str` function on molecule object.  \n",
    "Also possible to generate hashed signature (SHA512) by calling `bytes` function on molecule.\n",
    "\n",
    "Order of atoms calculated by Morgan-like algorithm.\n",
    "On initial state for each atoms it's integer code calculated. \n",
    "All bonds from atoms also coded as integers and stored in sorted tuple.\n",
    "Atom code and tuple of it's bonds used for ordering and similar atoms detecting.\n",
    "Ordered atoms replaced with prime numbers. Similar atoms has equal prime numbers.\n",
    "\n",
    "Prime-codes of numbers now used in Morgan algorithm cycle.\n",
    "\n",
    "On each loop for each atom calculated square of atom prime number multiplied to neighbors atoms prime numbers.\n",
    "looping repeated while all atoms can't be unique or while number of unique atoms will not change for 3 times."
   ]
  },
  {
   "cell_type": "code",
   "execution_count": null,
   "metadata": {},
   "outputs": [],
   "source": [
    "ms2 = str(m2)  # get and print signature\n",
    "print(ms2)  # or just print(reagent1)\n",
    "\n",
    "hms2 = bytes(m2)  # get sha512 hashed signature bytes-string"
   ]
  },
  {
   "cell_type": "markdown",
   "metadata": {},
   "source": [
    "String formatting supported.\n",
    "Usable for reporting"
   ]
  },
  {
   "cell_type": "code",
   "execution_count": null,
   "metadata": {},
   "outputs": [],
   "source": [
    "print(f'f string {m2}')  # use signature in string formatting\n",
    "print('C-style %s' % m2)\n",
    "print('fromat method {}'.format(m2))"
   ]
  },
  {
   "cell_type": "code",
   "execution_count": null,
   "metadata": {},
   "outputs": [],
   "source": [
    "m2.reset_query_marks()\n",
    "print(f'{m2:hn}')  # get signatures with hybridization and neighbors data\n",
    "print('{:h}'.format(m2))  # get signature with hybridization only data\n",
    "# h - hybridization marks, n- neighbors marks\n",
    "format(m2, 'n')"
   ]
  },
  {
   "cell_type": "markdown",
   "metadata": {},
   "source": [
    "s1 - atom has s hybridization with one neighbor  \n",
    "d3 - atom has d hybridization with 3 neighbors  \n",
    "see reset_query_marks above\n",
    "\n",
    "Signatures of projections also supported"
   ]
  },
  {
   "cell_type": "code",
   "execution_count": null,
   "metadata": {},
   "outputs": [],
   "source": [
    "f'{proj:h}'"
   ]
  },
  {
   "cell_type": "markdown",
   "metadata": {},
   "source": [
    "#### Molecules comparable and hashable \n",
    "Comparison based on molecules signatures. Equal molecules has equal signatures.  \n",
    "Strings in Python hashable. Therefore molecules also hashable.\n",
    "\n",
    "NOTE: molecules can be changed. This can lead to unobvious behavior of the sets and dictionaries in which these molecules were placed before the change. Don't change molecules (standardize, aromatize, hydrogens and atoms/bonds changes) in sets and dicts or don't use this sets/dicts."
   ]
  },
  {
   "cell_type": "code",
   "execution_count": null,
   "metadata": {},
   "outputs": [],
   "source": [
    "m1 != m2"
   ]
  },
  {
   "cell_type": "code",
   "execution_count": null,
   "metadata": {},
   "outputs": [],
   "source": [
    "m7 == m11"
   ]
  },
  {
   "cell_type": "code",
   "execution_count": null,
   "metadata": {},
   "outputs": [],
   "source": [
    "m7 is m11  # this is not same objects!"
   ]
  },
  {
   "cell_type": "code",
   "execution_count": null,
   "metadata": {},
   "outputs": [],
   "source": [
    "benzene == proj_copy"
   ]
  },
  {
   "cell_type": "code",
   "execution_count": null,
   "metadata": {},
   "outputs": [],
   "source": [
    "len({m1, m2, m7, m11}) == 3 # create set of unique molecules"
   ]
  },
  {
   "cell_type": "markdown",
   "metadata": {},
   "source": [
    "## 2.2. Reaction signatures\n",
    "Signature is SMIRKS string in which molecules of reagents, reactants, products presented in canonical order\n",
    "\n",
    "API same as for molecules"
   ]
  },
  {
   "cell_type": "code",
   "execution_count": null,
   "metadata": {},
   "outputs": [],
   "source": [
    "str(r1)"
   ]
  },
  {
   "cell_type": "markdown",
   "metadata": {},
   "source": [
    "## 2.3. CGR signature\n",
    "Signatures is SMIRKS-like strings where atoms in reagents and products has same order"
   ]
  },
  {
   "cell_type": "code",
   "execution_count": null,
   "metadata": {},
   "outputs": [],
   "source": [
    "str(cgr2)"
   ]
  },
  {
   "cell_type": "markdown",
   "metadata": {},
   "source": [
    "C-C-[O-].C(=O)(-O)-C(=O)(-O).O-C-C  \n",
    "C-C-O-C(=O)(.O)-C(=O)(.O)-O-C-C\n",
    "\n",
    "You can see changed bonds"
   ]
  },
  {
   "cell_type": "markdown",
   "metadata": {},
   "source": [
    "# 3. Structure standardization\n",
    "\n",
    "## 3.1. Molecules\n",
    "\n",
    "Molecules has `standardize` and `aromatize` methods.\n",
    "\n",
    "Aromatize transform kekule representation of rings into aromatized\n",
    "\n",
    "Standardize include aromatize and groups standardization. Next rules included:\n",
    "\n",
    "    • Aromatic N-Oxide \t[#7;a:1]=[O:2]>>[#7+:1]-[#8-:2]\n",
    "    • Azide \t\t\t[#7;A;X2-:1][N;X2+:2]#[N;X1:3]>>[#7:1]=[N+:2]=[#7-:3]\n",
    "    • Diazo  \t\t\t[#6;X3-:1][N;X2+:2]#[N;X1:3]>>[#6;A:1]=[N+:2]=[#7-:3]\n",
    "    • Diazonium  \t\t[#6]-[#7:1]=[#7+:2]>>[#6][N+:1]#[N:2]\n",
    "    • Iminium  \t\t[#6;X3+:1]-[#7;X3:2]>>[#6;A:1]=[#7+:2]\n",
    "    • Isocyanate  \t\t[#7+:1][#6;A-:2]=[O:3]>>[#7:1]=[C:2]=[O:3]\n",
    "    • Nitrilium  \t\t[#6;A;X2+:1]=[#7;X2:2]>>[C:1]#[N+:2]\n",
    "    • Nitro  \t\t\t[O:3]=[N:1]=[O:2]>>[#8-:2]-[#7+:1]=[O:3]\n",
    "    • Nitrone Nitronate \t[#6;A]=[N:1]=[O:2]>>[#8-:2]-[#7+:1]=[#6;A]\n",
    "    • Nitroso  \t\t[#6]-[#7H2+:1]-[#8;X1-:2]>>[#6]-[#7:1]=[O:2]\n",
    "    • Phosphonic  \t\t[#6][P+:1]([#8;X2])([#8;X2])[#8-:2]>>[#6][P:1]([#8])([#8])=[O:2]\n",
    "    • Phosphonium Ylide  \t[#6][P-:1]([#6])([#6])[#6+:2]>>[#6][P:1]([#6])([#6])=[#6;A:2]\n",
    "    • Selenite  \t\t[#8;X2][Se+:1]([#8;X2])[#8-:2]>>[#8][Se:1]([#8])=[O:2]\n",
    "    • Silicate  \t\t[#8;X2]-[#14+:1](-[#8;X2])-[#8-:2]>>[#8]-[#14:1](-[#8])=[O:2]\n",
    "    • Sulfine  \t\t[#6]-[#6](-[#6])=[S+:1][#8-:2]>>[#6]-[#6](-[#6])=[S:1]=[O:2]\n",
    "    • Sulfon  \t\t\t[#6][S;X3+:1]([#6])[#8-:2]>>[#6][S:1]([#6])=[O:2]\n",
    "    • Sulfonium Ylide  \t[#6][S-:1]([#6])[#6+:2]>>[#6][S:1]([#6])=[#6;A:2]\n",
    "    • Sulfoxide  \t\t[#6][S+:1]([#6])([#8-:2])=O>>[#6][S:1]([#6])(=[O:2])=O\n",
    "    • Sulfoxonium Ylide  \t[#6][S+:1]([#6])([#8-:2])=[#6;A]>>[#6][S:1]([#6])(=[#6;A])=[O:2]\n",
    "    • Tertiary N-Oxide  \t[#6]-[#7;X4:1]=[O:2]>>[#6]-[#7+:1]-[#8-:2]\n"
   ]
  },
  {
   "cell_type": "code",
   "execution_count": null,
   "metadata": {},
   "outputs": [],
   "source": [
    "m12"
   ]
  },
  {
   "cell_type": "code",
   "execution_count": null,
   "metadata": {},
   "outputs": [],
   "source": [
    "m12.aromatize() # return number of transformed rings"
   ]
  },
  {
   "cell_type": "code",
   "execution_count": null,
   "metadata": {},
   "outputs": [],
   "source": [
    "m12 # cache flushed automatically"
   ]
  },
  {
   "cell_type": "code",
   "execution_count": null,
   "metadata": {},
   "outputs": [],
   "source": [
    "m12.standardize()  # return number of transformed groups"
   ]
  },
  {
   "cell_type": "code",
   "execution_count": null,
   "metadata": {},
   "outputs": [],
   "source": [
    "m12"
   ]
  },
  {
   "cell_type": "markdown",
   "metadata": {},
   "source": [
    "Molecules has `explicify_hydrogens` and `implicify_hydrogens` methods.\n",
    "\n",
    "This methods add or remove hydrogens in molecule.\n",
    "\n",
    "Currently implicit H atoms incorrectly calculated for pyrole-like molecules"
   ]
  },
  {
   "cell_type": "code",
   "execution_count": null,
   "metadata": {},
   "outputs": [],
   "source": [
    "m1.explicify_hydrogens() # return number of added Hs"
   ]
  },
  {
   "cell_type": "code",
   "execution_count": null,
   "metadata": {},
   "outputs": [],
   "source": [
    "m1 # added hydrogen atoms coordinates not calculated. Look to H atoms position on image"
   ]
  },
  {
   "cell_type": "code",
   "execution_count": null,
   "metadata": {},
   "outputs": [],
   "source": [
    "m1.implicify_hydrogens() # return number of removed Hs"
   ]
  },
  {
   "cell_type": "code",
   "execution_count": null,
   "metadata": {},
   "outputs": [],
   "source": [
    "m1"
   ]
  },
  {
   "cell_type": "markdown",
   "metadata": {},
   "source": [
    "CGRtools has experimental algorithm for 2d geometry calcultaion. works fine only for small molecules.\n",
    "require `numpy` and `scipy` packages"
   ]
  },
  {
   "cell_type": "code",
   "execution_count": null,
   "metadata": {},
   "outputs": [],
   "source": [
    "m1.explicify_hydrogens()\n",
    "m1.calculate2d() # experimental force-based 2d geometry calculation.\n",
    "m1"
   ]
  },
  {
   "cell_type": "markdown",
   "metadata": {},
   "source": [
    "## 3.2. Reactions standardization"
   ]
  },
  {
   "cell_type": "code",
   "execution_count": null,
   "metadata": {},
   "outputs": [],
   "source": [
    "reactions[2]"
   ]
  },
  {
   "cell_type": "code",
   "execution_count": null,
   "metadata": {},
   "outputs": [],
   "source": [
    "reactions[2].standardize()\n",
    "reactions[2]"
   ]
  },
  {
   "cell_type": "markdown",
   "metadata": {},
   "source": [
    "# 4. Isomorphism\n",
    "\n",
    "## 4.1. Molecules Isomorphism\n",
    "CGRtools has simple isomorphism API.\n",
    "\n",
    "Equal atoms in isomorphism is atoms with same charge/multiplicity and isotope numbers"
   ]
  },
  {
   "cell_type": "code",
   "execution_count": null,
   "metadata": {},
   "outputs": [],
   "source": [
    "m7"
   ]
  },
  {
   "cell_type": "code",
   "execution_count": null,
   "metadata": {},
   "outputs": [],
   "source": [
    "m8"
   ]
  },
  {
   "cell_type": "code",
   "execution_count": null,
   "metadata": {},
   "outputs": [],
   "source": [
    "benzene.standardize()\n",
    "benzene"
   ]
  },
  {
   "cell_type": "code",
   "execution_count": null,
   "metadata": {},
   "outputs": [],
   "source": [
    "# isomorphism operations\n",
    "print(benzene < m7)  # benzene is substructure of m7\n",
    "print(benzene > m7)  # benzene is not superstructure of m7\n",
    "print(benzene <= m7) # benzene is substructure/or same structure of m7\n",
    "print(benzene >= m7) # benzene is not superstructure/or same structure of m7\n",
    "print(benzene < m8) # benzene is not substructure of m8. it's equal\n",
    "print(benzene <= m8)"
   ]
  },
  {
   "cell_type": "code",
   "execution_count": null,
   "metadata": {},
   "outputs": [],
   "source": [
    "m5"
   ]
  },
  {
   "cell_type": "code",
   "execution_count": null,
   "metadata": {},
   "outputs": [],
   "source": [
    "m6"
   ]
  },
  {
   "cell_type": "code",
   "execution_count": null,
   "metadata": {},
   "outputs": [],
   "source": [
    "m5.get_substructure_mapping(m6)  # mapping of m1 substructure into m2 superstructure"
   ]
  },
  {
   "cell_type": "code",
   "execution_count": null,
   "metadata": {},
   "outputs": [],
   "source": [
    "for m in m5.get_substructure_mapping(m6, limit=0):  # iterate over all possible substructures\n",
    "    print(m)\n",
    "#limit is returned number of matches. 0 is all possible"
   ]
  },
  {
   "cell_type": "code",
   "execution_count": null,
   "metadata": {},
   "outputs": [],
   "source": [
    "benzene.get_mapping(m8)  # mapping benzene into m8"
   ]
  },
  {
   "cell_type": "markdown",
   "metadata": {},
   "source": [
    "## 4.2. Reactions\n",
    "Don't support isomorphism. But molecules in reaction can be matched."
   ]
  },
  {
   "cell_type": "code",
   "execution_count": null,
   "metadata": {},
   "outputs": [],
   "source": [
    "try:\n",
    "    m6 < r1\n",
    "except TypeError:\n",
    "    print(format_exc())"
   ]
  },
  {
   "cell_type": "code",
   "execution_count": null,
   "metadata": {},
   "outputs": [],
   "source": [
    "any(m6 < m for m in r1.products) # check if any product side molecule is substructure of m6"
   ]
  },
  {
   "cell_type": "code",
   "execution_count": null,
   "metadata": {},
   "outputs": [],
   "source": [
    "r1.products[0] # superstructure"
   ]
  },
  {
   "cell_type": "code",
   "execution_count": null,
   "metadata": {},
   "outputs": [],
   "source": [
    "m6 # substructure"
   ]
  },
  {
   "cell_type": "markdown",
   "metadata": {},
   "source": [
    "## 4.3 CGR\n",
    "API same as for molecules\n",
    "\n",
    "For CGR supported matching CGR in CGR and molecule in CGR.\n",
    "\n",
    "Equal atoms in isomorphism is atoms with same charge/multiplicity and isotope numbers in reagent and product states"
   ]
  },
  {
   "cell_type": "code",
   "execution_count": null,
   "metadata": {},
   "outputs": [],
   "source": [
    "m8 < cgr1"
   ]
  },
  {
   "cell_type": "code",
   "execution_count": null,
   "metadata": {},
   "outputs": [],
   "source": [
    "cgr1 <= cgr1"
   ]
  },
  {
   "cell_type": "markdown",
   "metadata": {},
   "source": [
    "## 4.4 Queries"
   ]
  },
  {
   "cell_type": "code",
   "execution_count": null,
   "metadata": {},
   "outputs": [],
   "source": [
    "# for quering molecules need to calculate neighbors and hybridization\n",
    "m9.reset_query_marks()\n",
    "m10.reset_query_marks()"
   ]
  },
  {
   "cell_type": "code",
   "execution_count": null,
   "metadata": {},
   "outputs": [],
   "source": [
    "m9 # acid"
   ]
  },
  {
   "cell_type": "code",
   "execution_count": null,
   "metadata": {},
   "outputs": [],
   "source": [
    "m10 # ether"
   ]
  },
  {
   "cell_type": "code",
   "execution_count": null,
   "metadata": {},
   "outputs": [],
   "source": [
    "carb"
   ]
  },
  {
   "cell_type": "markdown",
   "metadata": {},
   "source": [
    "Molecules isomorphism don't take into account neighbors and hybridization"
   ]
  },
  {
   "cell_type": "code",
   "execution_count": null,
   "metadata": {},
   "outputs": [],
   "source": [
    "carb < m9 # carb currently is molecule projection."
   ]
  },
  {
   "cell_type": "code",
   "execution_count": null,
   "metadata": {},
   "outputs": [],
   "source": [
    "carb < m10"
   ]
  },
  {
   "cell_type": "markdown",
   "metadata": {},
   "source": [
    "You need to convert molecule (or it's projection) into QueryContainer object which support neighbors and hybridization data.\n",
    "\n",
    "API of isomorphism same."
   ]
  },
  {
   "cell_type": "code",
   "execution_count": null,
   "metadata": {},
   "outputs": [],
   "source": [
    "q = QueryContainer(carb)  # convert molecule into query"
   ]
  },
  {
   "cell_type": "code",
   "execution_count": null,
   "metadata": {},
   "outputs": [],
   "source": [
    "q < m9 # now neighbors and hybridization takes into account. "
   ]
  },
  {
   "cell_type": "markdown",
   "metadata": {},
   "source": [
    "Acid has Hydroxyl group which has one non-hydrogen neighbor. Our query require oxygen atom with two non-hydrogen neighbors.\n"
   ]
  },
  {
   "cell_type": "code",
   "execution_count": null,
   "metadata": {},
   "outputs": [],
   "source": [
    "q < m10 # ether match"
   ]
  },
  {
   "cell_type": "code",
   "execution_count": null,
   "metadata": {},
   "outputs": [],
   "source": [
    "m2.reset_query_marks()\n",
    "m2"
   ]
  },
  {
   "cell_type": "code",
   "execution_count": null,
   "metadata": {},
   "outputs": [],
   "source": [
    "q < m2"
   ]
  },
  {
   "cell_type": "markdown",
   "metadata": {},
   "source": [
    "# 5. Transformation rules extraction"
   ]
  },
  {
   "cell_type": "code",
   "execution_count": null,
   "metadata": {},
   "outputs": [],
   "source": [
    "cgr1.center_atoms # list of atom numbers of reaction center[s]"
   ]
  },
  {
   "cell_type": "code",
   "execution_count": null,
   "metadata": {},
   "outputs": [],
   "source": [
    "cgr1.center_bonds # list of dynamic bonds as tuples of adjacent atom numbers"
   ]
  },
  {
   "cell_type": "code",
   "execution_count": null,
   "metadata": {},
   "outputs": [],
   "source": [
    "cgr1.centers_list # list of list of atom numbers of each reaction centers"
   ]
  },
  {
   "cell_type": "code",
   "execution_count": null,
   "metadata": {},
   "outputs": [],
   "source": [
    "rc1 = cgr1.substructure([13, 7]) # get reaction center. see molecules for substructure API\n",
    "format(rc1, 'hn')"
   ]
  },
  {
   "cell_type": "markdown",
   "metadata": {},
   "source": [
    "rc1 is phenol reduction"
   ]
  },
  {
   "cell_type": "code",
   "execution_count": null,
   "metadata": {},
   "outputs": [],
   "source": [
    "rule = QueryCGRContainer(rc1)"
   ]
  },
  {
   "cell_type": "code",
   "execution_count": null,
   "metadata": {},
   "outputs": [],
   "source": [
    "print(rule)"
   ]
  },
  {
   "cell_type": "markdown",
   "metadata": {},
   "source": [
    "# 6. Reactor\n",
    "\n",
    "Reactor objects store single transformation and can apply it to molecules or CGRs.\n",
    "\n",
    "Transformations is ReactionContainer object which in reagent side consist query for matching group and in product side patch for updating matched atoms and bonds "
   ]
  },
  {
   "cell_type": "code",
   "execution_count": null,
   "metadata": {},
   "outputs": [],
   "source": [
    "from CGRtools import CGRreactor\n",
    "from CGRtools.containers import *"
   ]
  },
  {
   "cell_type": "markdown",
   "metadata": {},
   "source": [
    "## 6.1. Products generation\n",
    "Reactor works similar to ChemAxon Reactions enumeration.\n",
    "\n",
    "Lets try to etherificate acids.\n",
    "\n",
    "First we need to construct carboxy group matcher query.  \n",
    "Next ether group patch needed. \n",
    "\n",
    "Atom numbers in query and patch should be mapped. same atoms have same numbers."
   ]
  },
  {
   "cell_type": "code",
   "execution_count": null,
   "metadata": {},
   "outputs": [],
   "source": [
    "ether = QueryContainer() # this query match acids\n",
    "ether.add_atom({'element': 'C', 'neighbors': 3})\n",
    "ether.add_atom({'element': 'O', 'neighbors': 1})\n",
    "ether.add_atom('O')\n",
    "ether.add_bond(1, 2, 1) # This bond between carbon and hydroxyl oxygen\n",
    "ether.add_bond(1, 3, 2)\n",
    "print(ether)"
   ]
  },
  {
   "cell_type": "code",
   "execution_count": null,
   "metadata": {},
   "outputs": [],
   "source": [
    "methyl_ether = MoleculeContainer()\n",
    "methyl_ether.add_atom('C', 1) # second argument is predefined atom mapping\n",
    "methyl_ether.add_atom('O', 2)\n",
    "methyl_ether.add_atom('O', 4)\n",
    "methyl_ether.add_atom('O', 3)\n",
    "methyl_ether.add_atom('C', 5)\n",
    "methyl_ether.add_bond(1, 4, 1)\n",
    "methyl_ether.add_bond(1, 3, 2)\n",
    "methyl_ether.add_bond(4, 5, 1)\n",
    "# No bond between atom 1 and atom 2. Thi bond will be broke\n",
    "methyl_ether.calculate2d()\n",
    "methyl_ether"
   ]
  },
  {
   "cell_type": "code",
   "execution_count": null,
   "metadata": {},
   "outputs": [],
   "source": [
    "m6.reset_query_marks() # need for correct matching\n",
    "m6 # acid"
   ]
  },
  {
   "cell_type": "code",
   "execution_count": null,
   "metadata": {},
   "outputs": [],
   "source": [
    "template = ReactionContainer([ether], [methyl_ether]) # template is Reaction\n",
    "reactor = CGRreactor(template) # reactor initialized\n",
    "reacted_acid = reactor(m6)"
   ]
  },
  {
   "cell_type": "code",
   "execution_count": null,
   "metadata": {},
   "outputs": [],
   "source": [
    "reacted_acid.calculate2d(scale=2)\n",
    "reacted_acid"
   ]
  },
  {
   "cell_type": "markdown",
   "metadata": {},
   "source": [
    "You can see separate oxygen (water) and ether group.\n",
    "\n",
    "For next group transformation call reactor with reacted molecule as argument"
   ]
  },
  {
   "cell_type": "code",
   "execution_count": null,
   "metadata": {},
   "outputs": [],
   "source": [
    "reacted_acid.reset_query_marks() # this is new molecule and marks not set\n",
    "second_stage = reactor(reacted_acid)\n",
    "second_stage.calculate2d(scale=2)\n",
    "second_stage"
   ]
  },
  {
   "cell_type": "markdown",
   "metadata": {},
   "source": [
    "`second_stage` has 3 components in single object. We can split it into individual molecules and place all molecules into reaction object. "
   ]
  },
  {
   "cell_type": "code",
   "execution_count": null,
   "metadata": {},
   "outputs": [],
   "source": [
    "products = second_stage.split()\n",
    "syntez = ReactionContainer([m6], products)\n",
    "syntez.fix_positions()\n",
    "syntez"
   ]
  },
  {
   "cell_type": "markdown",
   "metadata": {},
   "source": [
    "For multicomponent reactions You can unite molecules of reagents into single molecule object and pass it to reactor.\n",
    "\n",
    "For molecules with multiple matches possible to enumerate all combinations."
   ]
  },
  {
   "cell_type": "code",
   "execution_count": null,
   "metadata": {},
   "outputs": [],
   "source": [
    "m6copy = m6.copy()\n",
    "m6copy.atom(5).isotope = 13 # isotope mark\n",
    "m6copy.reset_query_marks()\n",
    "enums = set()\n",
    "for m in reactor(m6copy, limit=0): # limit=0 is enumeration of all matches\n",
    "    print(m)\n",
    "    m.calculate2d(scale=2)\n",
    "    enums.update(m.split())\n",
    "enums = list(enums)"
   ]
  },
  {
   "cell_type": "code",
   "execution_count": null,
   "metadata": {},
   "outputs": [],
   "source": [
    "m6copy"
   ]
  },
  {
   "cell_type": "code",
   "execution_count": null,
   "metadata": {},
   "outputs": [],
   "source": [
    "enums[0]"
   ]
  },
  {
   "cell_type": "code",
   "execution_count": null,
   "metadata": {},
   "outputs": [],
   "source": [
    "enums[1]"
   ]
  },
  {
   "cell_type": "code",
   "execution_count": null,
   "metadata": {},
   "outputs": [],
   "source": [
    "enums[2]"
   ]
  },
  {
   "cell_type": "markdown",
   "metadata": {},
   "source": [
    "## 6.2. MetaReactions (reactions on CGRs).\n",
    "Example of atom-to-atom mapping fix. "
   ]
  },
  {
   "cell_type": "code",
   "execution_count": null,
   "metadata": {},
   "outputs": [],
   "source": [
    "reactions[1]"
   ]
  },
  {
   "cell_type": "code",
   "execution_count": null,
   "metadata": {},
   "outputs": [],
   "source": [
    "cgr = ~reactions[1]\n",
    "print(cgr)"
   ]
  },
  {
   "cell_type": "code",
   "execution_count": null,
   "metadata": {},
   "outputs": [],
   "source": [
    "cgr.centers_list # [10,11,12] - pseudo reaction"
   ]
  },
  {
   "cell_type": "markdown",
   "metadata": {},
   "source": [
    "reaction has AAM error in nitro-group\n",
    "\n",
    "![error.png](attachment:error.png)\n",
    "\n",
    "Lets try to use Reactor for AAM fixing"
   ]
  },
  {
   "cell_type": "code",
   "execution_count": null,
   "metadata": {},
   "outputs": [],
   "source": [
    "nitro = QueryCGRContainer() # construct query for invalid reaction center\n",
    "nitro.add_atom({'element': 'N', 'charge': 1, 'p_charge': 1})\n",
    "nitro.add_atom({'element': 'O', 'charge': 0, 'p_charge': -1}) # atom 2\n",
    "nitro.add_atom({'element': 'O', 'charge': -1, 'p_charge': 0}) # atom 3\n",
    "nitro.add_atom('C')\n",
    "\n",
    "nitro.add_bond(1, 2, {'order': 2, 'p_order': 1})\n",
    "nitro.add_bond(1, 3, {'order': 1, 'p_order': 2})\n",
    "nitro.add_bond(1, 4, 1)\n",
    "print(nitro)\n",
    "# this query can match \"transformation\" in CGR shoved above\n"
   ]
  },
  {
   "cell_type": "code",
   "execution_count": null,
   "metadata": {},
   "outputs": [],
   "source": [
    "nitro < cgr # query works!"
   ]
  },
  {
   "cell_type": "code",
   "execution_count": null,
   "metadata": {},
   "outputs": [],
   "source": [
    "valid_nitro = MoleculeContainer() # construct fixer nitro group without dynamic atoms\n",
    "valid_nitro.add_atom({'element': 'N', 'charge': 1})\n",
    "valid_nitro.add_atom({'element': 'O', 'charge': -1})\n",
    "valid_nitro.add_atom('O')\n",
    "\n",
    "valid_nitro.add_bond(1, 2, 1)\n",
    "valid_nitro.add_bond(1, 3, 2)\n",
    "print(valid_nitro)"
   ]
  },
  {
   "cell_type": "code",
   "execution_count": null,
   "metadata": {},
   "outputs": [],
   "source": [
    "valid_nitro.calculate2d()\n",
    "valid_nitro # this is molecule. we will use it for updating matched nitro \"transformation\" into unchanged group"
   ]
  },
  {
   "cell_type": "markdown",
   "metadata": {},
   "source": [
    "Now time to prepare **Template**.\n",
    "\n",
    "Template is Reaction container with query in reagents and patch in products"
   ]
  },
  {
   "cell_type": "code",
   "execution_count": null,
   "metadata": {},
   "outputs": [],
   "source": [
    "template = ReactionContainer([nitro], [valid_nitro])"
   ]
  },
  {
   "cell_type": "markdown",
   "metadata": {},
   "source": [
    "CGRreactor class accept single template.\n"
   ]
  },
  {
   "cell_type": "code",
   "execution_count": null,
   "metadata": {},
   "outputs": [],
   "source": [
    "reactor = CGRreactor(template)"
   ]
  },
  {
   "cell_type": "markdown",
   "metadata": {},
   "source": [
    "CGRreactor object is callable and accept as argument molecule or CGR.\n",
    "\n",
    "NOTE: `fixed` is new CGR object"
   ]
  },
  {
   "cell_type": "code",
   "execution_count": null,
   "metadata": {},
   "outputs": [],
   "source": [
    "fixed = reactor(cgr) # fix CGR"
   ]
  },
  {
   "cell_type": "markdown",
   "metadata": {},
   "source": [
    "CGRreactor returns None if query not matched else patched structure"
   ]
  },
  {
   "cell_type": "code",
   "execution_count": null,
   "metadata": {},
   "outputs": [],
   "source": [
    "print(fixed)"
   ]
  },
  {
   "cell_type": "markdown",
   "metadata": {},
   "source": [
    "`C-C(-I).O-C:1:C:C:C(:C:C:1)-[N+](-[O-])=O`  \n",
    "`C-C(.I)-O-C:1:C:C:C(:C:C:1)-[N+](-[O-])=O`\n",
    "\n",
    "You can see what nitro group now static"
   ]
  },
  {
   "cell_type": "code",
   "execution_count": null,
   "metadata": {},
   "outputs": [],
   "source": [
    "fixed.centers_list # pseudo center disappeared"
   ]
  },
  {
   "cell_type": "markdown",
   "metadata": {},
   "source": [
    "![cgr3.png](attachment:cgr3.png)"
   ]
  },
  {
   "cell_type": "markdown",
   "metadata": {},
   "source": [
    "# 7. Input-output operations\n",
    "*CGRtools.files* subpackage contains readers and writers classes.\n",
    "\n",
    "## 7.1. MDL RDF reader\n",
    "\n",
    "**RDFread** class can be used for RDF files reading.\n",
    "Instance of this class is file-like object which support **iteration**, has a method **read()** for parsing all data and **context manager**.\n"
   ]
  },
  {
   "cell_type": "markdown",
   "metadata": {},
   "source": [
    "### 7.1.1. Read file from disk"
   ]
  },
  {
   "cell_type": "code",
   "execution_count": null,
   "metadata": {},
   "outputs": [],
   "source": [
    "from CGRtools.files import * # import all available readers and writers\n",
    "\n",
    "with RDFread('example.rdf') as f:\n",
    "    first = next(f)  # get first reaction. generator-like\n",
    "    data = f.read()  # read remaining reactions to list\n",
    "\n",
    "data = []\n",
    "with RDFread('example.rdf') as f:\n",
    "    for r in f:  # loop supported\n",
    "        data.append(r)\n",
    "\n",
    "with RDFread('example.rdf') as f:\n",
    "    data = [r for r in f]  # list comprehensions. Note: use f.read() instead"
   ]
  },
  {
   "cell_type": "markdown",
   "metadata": {},
   "source": [
    "#### OOP-stype Pathlib supported"
   ]
  },
  {
   "cell_type": "code",
   "execution_count": null,
   "metadata": {},
   "outputs": [],
   "source": [
    "from pathlib import Path\n",
    "\n",
    "with RDFread(Path('example.rdf')) as r:\n",
    "    r = next(r)"
   ]
  },
  {
   "cell_type": "markdown",
   "metadata": {},
   "source": [
    "#### opened files supported\n",
    "For RDF file should be opened in text mode"
   ]
  },
  {
   "cell_type": "code",
   "execution_count": null,
   "metadata": {},
   "outputs": [],
   "source": [
    "with open('example.rdf') as f, RDFread(f) as r:\n",
    "    r = next(r)"
   ]
  },
  {
   "cell_type": "markdown",
   "metadata": {},
   "source": [
    "### 7.1.2. Transparent loading from archives and network\n",
    "Readers designed for transparently support of any type of data sources. \n",
    "\n",
    "Page https://cimm.kpfu.ru/seafile/f/aeaca685e3854ae2bbad/?dl=1 returns RDF file\n",
    "\n",
    "Data sources should be file-like objects"
   ]
  },
  {
   "cell_type": "code",
   "execution_count": null,
   "metadata": {
    "scrolled": true
   },
   "outputs": [],
   "source": [
    "from requests import get\n",
    "from io import StringIO\n",
    "\n",
    "# get function return requested URL which has attribute text. \n",
    "# in example this text is whole RDF stored in single string.\n",
    "# RDFread not support parsing of strings, but you can emulate files with data from strings by using io.StringIO\n",
    "with StringIO(get('https://cimm.kpfu.ru/seafile/f/aeaca685e3854ae2bbad/?dl=1').text) as f, RDFread(f) as r:\n",
    "    r = next(r)\n",
    "    print(r, 'StringIO with downloaded from network data')\n",
    "\n",
    "# python support gzipped data. this example shows how to work with compressed data without decompressing to disk.\n",
    "from gzip import open as gzip_open\n",
    "with gzip_open('example.rdf.gz', 'rt') as f, RDFread(f) as r:\n",
    "    r = next(r)\n",
    "    print(r, 'gzipped file')\n",
    "\n",
    "# zip-files also supported out of the box \n",
    "# zipped files can be opened only in binary mode. io.TextIOWrapper can be used for transparent decoding into text\n",
    "from zipfile import ZipFile\n",
    "from io import TextIOWrapper\n",
    "with ZipFile('example.zip') as z, z.open('example.rdf') as c:\n",
    "    with TextIOWrapper(c) as f, RDFread(f) as r:\n",
    "        r = next(r)\n",
    "        print(r, 'zip archive')\n",
    "\n",
    "# tar-file example\n",
    "from tarfile import open as tar_open\n",
    "from io import TextIOWrapper\n",
    "with tar_open('example.tar.gz') as t:\n",
    "    c = t.extractfile('example.rdf')\n",
    "    with TextIOWrapper(c) as f, RDFread(f) as r:\n",
    "        r = next(r)\n",
    "        print(r, 'gzipped tar archive')"
   ]
  },
  {
   "cell_type": "markdown",
   "metadata": {},
   "source": [
    "## 7.2. Other Readers\n",
    "* SDFread - MOL, SDF files reader (v2000, v3000)\n",
    "* MRVread - ChemAxon MRV files reader (lxml parser used)\n",
    "* SMILESread - new-line separated SMILES strings files reader (coho backend used)\n",
    "* INCHIread - new-line separated INCHI strings files reader (INCHI trust backend used)\n",
    "\n",
    "All files except MRV should be opened in **text-mode**  \n",
    "MRV requires binary mode `open('/path/to/data.mrv', 'rb')`"
   ]
  },
  {
   "cell_type": "code",
   "execution_count": null,
   "metadata": {},
   "outputs": [],
   "source": [
    "with MRVread(open('example.mrv', 'rb')) as f:\n",
    "    mrv = next(f)\n",
    "mrv"
   ]
  },
  {
   "cell_type": "markdown",
   "metadata": {},
   "source": [
    "## 7.3. File writers\n",
    "Supported writing in next formats:\n",
    "* RDFwrite (v2000) - molecules and reactions  write in RDF format\n",
    "* SDFwrite (v2000) - molecules only  write in SDF format\n",
    "* MRVwrite - molecules and reactions write in MRV format\n",
    "\n",
    "Writers has same API as readers. all writers works with text-files\n",
    "Writers has `write` method which accept as argument singe reactionor molecule or CGR object"
   ]
  },
  {
   "cell_type": "code",
   "execution_count": null,
   "metadata": {},
   "outputs": [],
   "source": [
    "with RDFwrite('out.rdf') as f: # context manager supported\n",
    "    for r in data:\n",
    "        f.write(r)\n",
    "# file will be overriden"
   ]
  },
  {
   "cell_type": "code",
   "execution_count": null,
   "metadata": {},
   "outputs": [],
   "source": [
    "f = RDFwrite('out.rdf') # ongoing writing into single file\n",
    "for r in data:\n",
    "    f.write(r)\n",
    "\n",
    "f.write(r1)\n",
    "\n",
    "f.close() # close file. flush buffers."
   ]
  },
  {
   "cell_type": "markdown",
   "metadata": {},
   "source": [
    "## 7.4 CGR can be stored in MDL SDF and loaded from.\n",
    "\n",
    "White-paper with SDF-CGR specification included."
   ]
  },
  {
   "cell_type": "code",
   "execution_count": null,
   "metadata": {},
   "outputs": [],
   "source": [
    "from CGRtools.files import *\n",
    "from io import StringIO\n",
    "\n",
    "with StringIO() as f,  SDFwrite(f) as w:\n",
    "    w.write(cgr2)\n",
    "    mdl = f.getvalue()\n",
    "print(mdl)"
   ]
  },
  {
   "cell_type": "code",
   "execution_count": null,
   "metadata": {},
   "outputs": [],
   "source": [
    "with StringIO(mdl) as f,  SDFread(f) as r:\n",
    "    cgr3 = next(r)\n",
    "print(cgr3)\n",
    "print(type(cgr3))"
   ]
  }
 ],
 "metadata": {
  "kernelspec": {
   "display_name": "cgrtools",
   "language": "python",
   "name": "cgrtools"
  },
  "language_info": {
   "codemirror_mode": {
    "name": "ipython",
    "version": 3
   },
   "file_extension": ".py",
   "mimetype": "text/x-python",
   "name": "python",
   "nbconvert_exporter": "python",
   "pygments_lexer": "ipython3",
   "version": "3.7.1"
  }
 },
 "nbformat": 4,
 "nbformat_minor": 1
}
